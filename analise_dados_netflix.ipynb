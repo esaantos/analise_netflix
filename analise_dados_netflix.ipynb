{
 "cells": [
  {
   "cell_type": "code",
   "execution_count": 1,
   "id": "5e1dcd5b",
   "metadata": {},
   "outputs": [],
   "source": [
    "#Importação de Bibliotecas\n",
    "import pandas as pd\n",
    "import matplotlib.pyplot as plt\n",
    "import seaborn as sns"
   ]
  },
  {
   "cell_type": "code",
   "execution_count": 2,
   "id": "6ebb89fd",
   "metadata": {},
   "outputs": [
    {
     "data": {
      "text/html": [
       "<div>\n",
       "<style scoped>\n",
       "    .dataframe tbody tr th:only-of-type {\n",
       "        vertical-align: middle;\n",
       "    }\n",
       "\n",
       "    .dataframe tbody tr th {\n",
       "        vertical-align: top;\n",
       "    }\n",
       "\n",
       "    .dataframe thead th {\n",
       "        text-align: right;\n",
       "    }\n",
       "</style>\n",
       "<table border=\"1\" class=\"dataframe\">\n",
       "  <thead>\n",
       "    <tr style=\"text-align: right;\">\n",
       "      <th></th>\n",
       "      <th>Profile Name</th>\n",
       "      <th>Start Time</th>\n",
       "      <th>Duration</th>\n",
       "      <th>Attributes</th>\n",
       "      <th>Title</th>\n",
       "      <th>Supplemental Video Type</th>\n",
       "      <th>Device Type</th>\n",
       "      <th>Bookmark</th>\n",
       "      <th>Latest Bookmark</th>\n",
       "      <th>Country</th>\n",
       "    </tr>\n",
       "  </thead>\n",
       "  <tbody>\n",
       "    <tr>\n",
       "      <th>0</th>\n",
       "      <td>Everson/Cintia</td>\n",
       "      <td>2022-03-03 23:51:44</td>\n",
       "      <td>00:31:08</td>\n",
       "      <td>Autoplayed: user action: User_Interaction;</td>\n",
       "      <td>Marcella: Temporada 2: Episódio 3 (Episódio 3)</td>\n",
       "      <td>NaN</td>\n",
       "      <td>Samsung CE 2020 Nike-L UHD TV Smart TV</td>\n",
       "      <td>00:31:38</td>\n",
       "      <td>00:31:38</td>\n",
       "      <td>BR (Brazil)</td>\n",
       "    </tr>\n",
       "    <tr>\n",
       "      <th>1</th>\n",
       "      <td>Everson/Cintia</td>\n",
       "      <td>2022-03-03 23:25:58</td>\n",
       "      <td>00:23:52</td>\n",
       "      <td>Autoplayed: user action: User_Interaction;</td>\n",
       "      <td>Marcella: Temporada 2: Episódio 2 (Episódio 2)</td>\n",
       "      <td>NaN</td>\n",
       "      <td>Samsung CE 2020 Nike-L UHD TV Smart TV</td>\n",
       "      <td>00:45:27</td>\n",
       "      <td>00:45:27</td>\n",
       "      <td>BR (Brazil)</td>\n",
       "    </tr>\n",
       "    <tr>\n",
       "      <th>2</th>\n",
       "      <td>Everson/Cintia</td>\n",
       "      <td>2022-03-03 23:18:20</td>\n",
       "      <td>00:01:24</td>\n",
       "      <td>Autoplayed: user action: None;</td>\n",
       "      <td>Marcella: Temporada 2 (Trailer)</td>\n",
       "      <td>TRAILER</td>\n",
       "      <td>Samsung CE 2020 Nike-L UHD TV Smart TV</td>\n",
       "      <td>00:01:25</td>\n",
       "      <td>00:01:25</td>\n",
       "      <td>BR (Brazil)</td>\n",
       "    </tr>\n",
       "    <tr>\n",
       "      <th>3</th>\n",
       "      <td>Everson/Cintia</td>\n",
       "      <td>2022-03-03 23:18:05</td>\n",
       "      <td>00:00:07</td>\n",
       "      <td>Autoplayed: user action: None;</td>\n",
       "      <td>Gotham: Season 1_hook_primary_16x9</td>\n",
       "      <td>HOOK</td>\n",
       "      <td>Samsung CE 2020 Nike-L UHD TV Smart TV</td>\n",
       "      <td>00:00:07</td>\n",
       "      <td>00:00:07</td>\n",
       "      <td>BR (Brazil)</td>\n",
       "    </tr>\n",
       "    <tr>\n",
       "      <th>4</th>\n",
       "      <td>Everson/Cintia</td>\n",
       "      <td>2022-03-03 23:17:56</td>\n",
       "      <td>00:00:05</td>\n",
       "      <td>Autoplayed: user action: None;</td>\n",
       "      <td>Temporada 1 (Clipe): Juvenile Justice</td>\n",
       "      <td>HOOK</td>\n",
       "      <td>Samsung CE 2020 Nike-L UHD TV Smart TV</td>\n",
       "      <td>00:00:05</td>\n",
       "      <td>00:00:05</td>\n",
       "      <td>BR (Brazil)</td>\n",
       "    </tr>\n",
       "  </tbody>\n",
       "</table>\n",
       "</div>"
      ],
      "text/plain": [
       "     Profile Name           Start Time  Duration  \\\n",
       "0  Everson/Cintia  2022-03-03 23:51:44  00:31:08   \n",
       "1  Everson/Cintia  2022-03-03 23:25:58  00:23:52   \n",
       "2  Everson/Cintia  2022-03-03 23:18:20  00:01:24   \n",
       "3  Everson/Cintia  2022-03-03 23:18:05  00:00:07   \n",
       "4  Everson/Cintia  2022-03-03 23:17:56  00:00:05   \n",
       "\n",
       "                                    Attributes  \\\n",
       "0  Autoplayed: user action: User_Interaction;    \n",
       "1  Autoplayed: user action: User_Interaction;    \n",
       "2              Autoplayed: user action: None;    \n",
       "3              Autoplayed: user action: None;    \n",
       "4              Autoplayed: user action: None;    \n",
       "\n",
       "                                            Title Supplemental Video Type  \\\n",
       "0  Marcella: Temporada 2: Episódio 3 (Episódio 3)                     NaN   \n",
       "1  Marcella: Temporada 2: Episódio 2 (Episódio 2)                     NaN   \n",
       "2                 Marcella: Temporada 2 (Trailer)                 TRAILER   \n",
       "3              Gotham: Season 1_hook_primary_16x9                    HOOK   \n",
       "4           Temporada 1 (Clipe): Juvenile Justice                    HOOK   \n",
       "\n",
       "                              Device Type  Bookmark Latest Bookmark  \\\n",
       "0  Samsung CE 2020 Nike-L UHD TV Smart TV  00:31:38        00:31:38   \n",
       "1  Samsung CE 2020 Nike-L UHD TV Smart TV  00:45:27        00:45:27   \n",
       "2  Samsung CE 2020 Nike-L UHD TV Smart TV  00:01:25        00:01:25   \n",
       "3  Samsung CE 2020 Nike-L UHD TV Smart TV  00:00:07        00:00:07   \n",
       "4  Samsung CE 2020 Nike-L UHD TV Smart TV  00:00:05        00:00:05   \n",
       "\n",
       "       Country  \n",
       "0  BR (Brazil)  \n",
       "1  BR (Brazil)  \n",
       "2  BR (Brazil)  \n",
       "3  BR (Brazil)  \n",
       "4  BR (Brazil)  "
      ]
     },
     "execution_count": 2,
     "metadata": {},
     "output_type": "execute_result"
    }
   ],
   "source": [
    "#Conhecendo e preparando os dados\n",
    "df = pd.read_csv('ViewingActivity.csv')\n",
    "df.head()"
   ]
  },
  {
   "cell_type": "code",
   "execution_count": 3,
   "id": "49e10b7c",
   "metadata": {},
   "outputs": [
    {
     "data": {
      "text/plain": [
       "(30344, 10)"
      ]
     },
     "execution_count": 3,
     "metadata": {},
     "output_type": "execute_result"
    }
   ],
   "source": [
    "df.shape"
   ]
  },
  {
   "cell_type": "code",
   "execution_count": 4,
   "id": "78617760",
   "metadata": {},
   "outputs": [
    {
     "name": "stdout",
     "output_type": "stream",
     "text": [
      "<class 'pandas.core.frame.DataFrame'>\n",
      "RangeIndex: 30344 entries, 0 to 30343\n",
      "Data columns (total 10 columns):\n",
      " #   Column                   Non-Null Count  Dtype \n",
      "---  ------                   --------------  ----- \n",
      " 0   Profile Name             30344 non-null  object\n",
      " 1   Start Time               30344 non-null  object\n",
      " 2   Duration                 30344 non-null  object\n",
      " 3   Attributes               20868 non-null  object\n",
      " 4   Title                    30344 non-null  object\n",
      " 5   Supplemental Video Type  10088 non-null  object\n",
      " 6   Device Type              30344 non-null  object\n",
      " 7   Bookmark                 30344 non-null  object\n",
      " 8   Latest Bookmark          30344 non-null  object\n",
      " 9   Country                  30344 non-null  object\n",
      "dtypes: object(10)\n",
      "memory usage: 2.3+ MB\n"
     ]
    }
   ],
   "source": [
    "df.info()"
   ]
  },
  {
   "cell_type": "code",
   "execution_count": 5,
   "id": "a7f430fe",
   "metadata": {},
   "outputs": [
    {
     "data": {
      "text/html": [
       "<div>\n",
       "<style scoped>\n",
       "    .dataframe tbody tr th:only-of-type {\n",
       "        vertical-align: middle;\n",
       "    }\n",
       "\n",
       "    .dataframe tbody tr th {\n",
       "        vertical-align: top;\n",
       "    }\n",
       "\n",
       "    .dataframe thead th {\n",
       "        text-align: right;\n",
       "    }\n",
       "</style>\n",
       "<table border=\"1\" class=\"dataframe\">\n",
       "  <thead>\n",
       "    <tr style=\"text-align: right;\">\n",
       "      <th></th>\n",
       "      <th>Profile Name</th>\n",
       "      <th>Start Time</th>\n",
       "      <th>Duration</th>\n",
       "      <th>Title</th>\n",
       "    </tr>\n",
       "  </thead>\n",
       "  <tbody>\n",
       "    <tr>\n",
       "      <th>0</th>\n",
       "      <td>Everson/Cintia</td>\n",
       "      <td>2022-03-03 23:51:44</td>\n",
       "      <td>00:31:08</td>\n",
       "      <td>Marcella: Temporada 2: Episódio 3 (Episódio 3)</td>\n",
       "    </tr>\n",
       "    <tr>\n",
       "      <th>1</th>\n",
       "      <td>Everson/Cintia</td>\n",
       "      <td>2022-03-03 23:25:58</td>\n",
       "      <td>00:23:52</td>\n",
       "      <td>Marcella: Temporada 2: Episódio 2 (Episódio 2)</td>\n",
       "    </tr>\n",
       "    <tr>\n",
       "      <th>2</th>\n",
       "      <td>Everson/Cintia</td>\n",
       "      <td>2022-03-03 23:18:20</td>\n",
       "      <td>00:01:24</td>\n",
       "      <td>Marcella: Temporada 2 (Trailer)</td>\n",
       "    </tr>\n",
       "    <tr>\n",
       "      <th>3</th>\n",
       "      <td>Everson/Cintia</td>\n",
       "      <td>2022-03-03 23:18:05</td>\n",
       "      <td>00:00:07</td>\n",
       "      <td>Gotham: Season 1_hook_primary_16x9</td>\n",
       "    </tr>\n",
       "    <tr>\n",
       "      <th>4</th>\n",
       "      <td>Everson/Cintia</td>\n",
       "      <td>2022-03-03 23:17:56</td>\n",
       "      <td>00:00:05</td>\n",
       "      <td>Temporada 1 (Clipe): Juvenile Justice</td>\n",
       "    </tr>\n",
       "  </tbody>\n",
       "</table>\n",
       "</div>"
      ],
      "text/plain": [
       "     Profile Name           Start Time  Duration  \\\n",
       "0  Everson/Cintia  2022-03-03 23:51:44  00:31:08   \n",
       "1  Everson/Cintia  2022-03-03 23:25:58  00:23:52   \n",
       "2  Everson/Cintia  2022-03-03 23:18:20  00:01:24   \n",
       "3  Everson/Cintia  2022-03-03 23:18:05  00:00:07   \n",
       "4  Everson/Cintia  2022-03-03 23:17:56  00:00:05   \n",
       "\n",
       "                                            Title  \n",
       "0  Marcella: Temporada 2: Episódio 3 (Episódio 3)  \n",
       "1  Marcella: Temporada 2: Episódio 2 (Episódio 2)  \n",
       "2                 Marcella: Temporada 2 (Trailer)  \n",
       "3              Gotham: Season 1_hook_primary_16x9  \n",
       "4           Temporada 1 (Clipe): Juvenile Justice  "
      ]
     },
     "execution_count": 5,
     "metadata": {},
     "output_type": "execute_result"
    }
   ],
   "source": [
    "#Eliminando colunas que não seráo utilizadas\n",
    "df.drop(['Attributes', 'Supplemental Video Type', 'Device Type', 'Bookmark', 'Latest Bookmark', 'Country'], axis=1, inplace=True)\n",
    "df.head()"
   ]
  },
  {
   "cell_type": "code",
   "execution_count": 6,
   "id": "2f9ee0ca",
   "metadata": {},
   "outputs": [],
   "source": [
    "#Renomeando colunas\n",
    "df.columns = ['Profile', 'Start_Time', 'Duration', 'Title']"
   ]
  },
  {
   "cell_type": "code",
   "execution_count": 7,
   "id": "6eae10b8",
   "metadata": {},
   "outputs": [
    {
     "data": {
      "text/plain": [
       "False"
      ]
     },
     "execution_count": 7,
     "metadata": {},
     "output_type": "execute_result"
    }
   ],
   "source": [
    "#Verificação de valores nulos\n",
    "df.isna().values.any()"
   ]
  },
  {
   "cell_type": "code",
   "execution_count": 8,
   "id": "89d86b75",
   "metadata": {},
   "outputs": [
    {
     "data": {
      "text/html": [
       "<div>\n",
       "<style scoped>\n",
       "    .dataframe tbody tr th:only-of-type {\n",
       "        vertical-align: middle;\n",
       "    }\n",
       "\n",
       "    .dataframe tbody tr th {\n",
       "        vertical-align: top;\n",
       "    }\n",
       "\n",
       "    .dataframe thead th {\n",
       "        text-align: right;\n",
       "    }\n",
       "</style>\n",
       "<table border=\"1\" class=\"dataframe\">\n",
       "  <thead>\n",
       "    <tr style=\"text-align: right;\">\n",
       "      <th></th>\n",
       "      <th>Profile</th>\n",
       "      <th>Start_Time</th>\n",
       "      <th>Duration</th>\n",
       "      <th>Title</th>\n",
       "    </tr>\n",
       "  </thead>\n",
       "  <tbody>\n",
       "    <tr>\n",
       "      <th>0</th>\n",
       "      <td>Everson/Cintia</td>\n",
       "      <td>2022-03-03 23:51:44</td>\n",
       "      <td>00:31:08</td>\n",
       "      <td>Marcella: Temporada 2: Episódio 3 (Episódio 3)</td>\n",
       "    </tr>\n",
       "    <tr>\n",
       "      <th>1</th>\n",
       "      <td>Everson/Cintia</td>\n",
       "      <td>2022-03-03 23:25:58</td>\n",
       "      <td>00:23:52</td>\n",
       "      <td>Marcella: Temporada 2: Episódio 2 (Episódio 2)</td>\n",
       "    </tr>\n",
       "    <tr>\n",
       "      <th>2</th>\n",
       "      <td>Everson/Cintia</td>\n",
       "      <td>2022-03-03 23:18:20</td>\n",
       "      <td>00:01:24</td>\n",
       "      <td>Marcella: Temporada 2 (Trailer)</td>\n",
       "    </tr>\n",
       "    <tr>\n",
       "      <th>3</th>\n",
       "      <td>Everson/Cintia</td>\n",
       "      <td>2022-03-03 23:18:05</td>\n",
       "      <td>00:00:07</td>\n",
       "      <td>Gotham: Season 1_hook_primary_16x9</td>\n",
       "    </tr>\n",
       "    <tr>\n",
       "      <th>4</th>\n",
       "      <td>Everson/Cintia</td>\n",
       "      <td>2022-03-03 23:17:56</td>\n",
       "      <td>00:00:05</td>\n",
       "      <td>Temporada 1 (Clipe): Juvenile Justice</td>\n",
       "    </tr>\n",
       "    <tr>\n",
       "      <th>...</th>\n",
       "      <td>...</td>\n",
       "      <td>...</td>\n",
       "      <td>...</td>\n",
       "      <td>...</td>\n",
       "    </tr>\n",
       "    <tr>\n",
       "      <th>30339</th>\n",
       "      <td>Ton/Cris</td>\n",
       "      <td>2016-08-31 00:33:12</td>\n",
       "      <td>00:26:42</td>\n",
       "      <td>Se enlouquecer, não se apaixone</td>\n",
       "    </tr>\n",
       "    <tr>\n",
       "      <th>30340</th>\n",
       "      <td>Ton/Cris</td>\n",
       "      <td>2016-08-30 20:52:42</td>\n",
       "      <td>00:33:19</td>\n",
       "      <td>Se enlouquecer, não se apaixone</td>\n",
       "    </tr>\n",
       "    <tr>\n",
       "      <th>30341</th>\n",
       "      <td>Ton/Cris</td>\n",
       "      <td>2016-08-30 20:43:22</td>\n",
       "      <td>00:03:59</td>\n",
       "      <td>Loucamente Apaixonados</td>\n",
       "    </tr>\n",
       "    <tr>\n",
       "      <th>30342</th>\n",
       "      <td>Ton/Cris</td>\n",
       "      <td>2016-08-30 19:15:16</td>\n",
       "      <td>01:03:30</td>\n",
       "      <td>D.U.F.F.</td>\n",
       "    </tr>\n",
       "    <tr>\n",
       "      <th>30343</th>\n",
       "      <td>Ton/Cris</td>\n",
       "      <td>2016-08-30 19:14:13</td>\n",
       "      <td>00:00:21</td>\n",
       "      <td>D.U.F.F.</td>\n",
       "    </tr>\n",
       "  </tbody>\n",
       "</table>\n",
       "<p>30344 rows × 4 columns</p>\n",
       "</div>"
      ],
      "text/plain": [
       "              Profile           Start_Time  Duration  \\\n",
       "0      Everson/Cintia  2022-03-03 23:51:44  00:31:08   \n",
       "1      Everson/Cintia  2022-03-03 23:25:58  00:23:52   \n",
       "2      Everson/Cintia  2022-03-03 23:18:20  00:01:24   \n",
       "3      Everson/Cintia  2022-03-03 23:18:05  00:00:07   \n",
       "4      Everson/Cintia  2022-03-03 23:17:56  00:00:05   \n",
       "...               ...                  ...       ...   \n",
       "30339        Ton/Cris  2016-08-31 00:33:12  00:26:42   \n",
       "30340        Ton/Cris  2016-08-30 20:52:42  00:33:19   \n",
       "30341        Ton/Cris  2016-08-30 20:43:22  00:03:59   \n",
       "30342        Ton/Cris  2016-08-30 19:15:16  01:03:30   \n",
       "30343        Ton/Cris  2016-08-30 19:14:13  00:00:21   \n",
       "\n",
       "                                                Title  \n",
       "0      Marcella: Temporada 2: Episódio 3 (Episódio 3)  \n",
       "1      Marcella: Temporada 2: Episódio 2 (Episódio 2)  \n",
       "2                     Marcella: Temporada 2 (Trailer)  \n",
       "3                  Gotham: Season 1_hook_primary_16x9  \n",
       "4               Temporada 1 (Clipe): Juvenile Justice  \n",
       "...                                               ...  \n",
       "30339                 Se enlouquecer, não se apaixone  \n",
       "30340                 Se enlouquecer, não se apaixone  \n",
       "30341                          Loucamente Apaixonados  \n",
       "30342                                        D.U.F.F.  \n",
       "30343                                        D.U.F.F.  \n",
       "\n",
       "[30344 rows x 4 columns]"
      ]
     },
     "execution_count": 8,
     "metadata": {},
     "output_type": "execute_result"
    }
   ],
   "source": [
    "df"
   ]
  },
  {
   "cell_type": "code",
   "execution_count": 9,
   "id": "58bebf41",
   "metadata": {},
   "outputs": [
    {
     "data": {
      "text/plain": [
       "Profile\n",
       "Everson/Cintia        5438\n",
       "Fernanda/Vinícius     2658\n",
       "Izadora\\Daniel       11582\n",
       "Perdigaço/Larah       4650\n",
       "Ton/Cris              6016\n",
       "dtype: int64"
      ]
     },
     "execution_count": 9,
     "metadata": {},
     "output_type": "execute_result"
    }
   ],
   "source": [
    "#Explorando dados \n",
    "perfil = df.groupby(['Profile']).size()\n",
    "perfil"
   ]
  },
  {
   "cell_type": "code",
   "execution_count": 10,
   "id": "b2c642de",
   "metadata": {},
   "outputs": [
    {
     "data": {
      "text/plain": [
       "<AxesSubplot:xlabel='Profile'>"
      ]
     },
     "execution_count": 10,
     "metadata": {},
     "output_type": "execute_result"
    },
    {
     "data": {
      "image/png": "[encoded data removed]",
      "text/plain": [
       "<Figure size 432x288 with 1 Axes>"
      ]
     },
     "metadata": {
      "needs_background": "light"
     },
     "output_type": "display_data"
    }
   ],
   "source": [
    "perfil.plot.bar(color='green')"
   ]
  },
  {
   "cell_type": "code",
   "execution_count": 11,
   "id": "033b9c05",
   "metadata": {},
   "outputs": [
    {
     "data": {
      "text/html": [
       "<div>\n",
       "<style scoped>\n",
       "    .dataframe tbody tr th:only-of-type {\n",
       "        vertical-align: middle;\n",
       "    }\n",
       "\n",
       "    .dataframe tbody tr th {\n",
       "        vertical-align: top;\n",
       "    }\n",
       "\n",
       "    .dataframe thead th {\n",
       "        text-align: right;\n",
       "    }\n",
       "</style>\n",
       "<table border=\"1\" class=\"dataframe\">\n",
       "  <thead>\n",
       "    <tr style=\"text-align: right;\">\n",
       "      <th></th>\n",
       "      <th>Profile</th>\n",
       "      <th>Start_Time</th>\n",
       "      <th>Duration</th>\n",
       "      <th>Title</th>\n",
       "    </tr>\n",
       "  </thead>\n",
       "  <tbody>\n",
       "    <tr>\n",
       "      <th>0</th>\n",
       "      <td>Everson/Cintia</td>\n",
       "      <td>2022-03-03 23:51:44</td>\n",
       "      <td>00:31:08</td>\n",
       "      <td>Marcella: Temporada 2: Episódio 3 (Episódio 3)</td>\n",
       "    </tr>\n",
       "    <tr>\n",
       "      <th>1</th>\n",
       "      <td>Everson/Cintia</td>\n",
       "      <td>2022-03-03 23:25:58</td>\n",
       "      <td>00:23:52</td>\n",
       "      <td>Marcella: Temporada 2: Episódio 2 (Episódio 2)</td>\n",
       "    </tr>\n",
       "    <tr>\n",
       "      <th>2</th>\n",
       "      <td>Everson/Cintia</td>\n",
       "      <td>2022-03-03 23:18:20</td>\n",
       "      <td>00:01:24</td>\n",
       "      <td>Marcella: Temporada 2 (Trailer)</td>\n",
       "    </tr>\n",
       "    <tr>\n",
       "      <th>3</th>\n",
       "      <td>Everson/Cintia</td>\n",
       "      <td>2022-03-03 23:18:05</td>\n",
       "      <td>00:00:07</td>\n",
       "      <td>Gotham: Season 1_hook_primary_16x9</td>\n",
       "    </tr>\n",
       "    <tr>\n",
       "      <th>4</th>\n",
       "      <td>Everson/Cintia</td>\n",
       "      <td>2022-03-03 23:17:56</td>\n",
       "      <td>00:00:05</td>\n",
       "      <td>Temporada 1 (Clipe): Juvenile Justice</td>\n",
       "    </tr>\n",
       "    <tr>\n",
       "      <th>...</th>\n",
       "      <td>...</td>\n",
       "      <td>...</td>\n",
       "      <td>...</td>\n",
       "      <td>...</td>\n",
       "    </tr>\n",
       "    <tr>\n",
       "      <th>5433</th>\n",
       "      <td>Everson/Cintia</td>\n",
       "      <td>2016-08-28 18:43:07</td>\n",
       "      <td>00:35:28</td>\n",
       "      <td>Prison Break: Temporada 1: O Adiamento (Episód...</td>\n",
       "    </tr>\n",
       "    <tr>\n",
       "      <th>5434</th>\n",
       "      <td>Everson/Cintia</td>\n",
       "      <td>2016-08-28 00:59:59</td>\n",
       "      <td>00:07:43</td>\n",
       "      <td>Prison Break: Temporada 1: O Adiamento (Episód...</td>\n",
       "    </tr>\n",
       "    <tr>\n",
       "      <th>5435</th>\n",
       "      <td>Everson/Cintia</td>\n",
       "      <td>2016-08-28 00:16:03</td>\n",
       "      <td>00:43:18</td>\n",
       "      <td>Prison Break: Temporada 1: O Rato (Episódio 14)</td>\n",
       "    </tr>\n",
       "    <tr>\n",
       "      <th>5436</th>\n",
       "      <td>Everson/Cintia</td>\n",
       "      <td>2016-08-28 00:11:51</td>\n",
       "      <td>00:01:42</td>\n",
       "      <td>Prison Break: Temporada 1: O Fim do Túnel (Epi...</td>\n",
       "    </tr>\n",
       "    <tr>\n",
       "      <th>5437</th>\n",
       "      <td>Everson/Cintia</td>\n",
       "      <td>2016-08-28 00:08:59</td>\n",
       "      <td>00:00:03</td>\n",
       "      <td>Prison Break: Temporada 1: O Fim do Túnel (Epi...</td>\n",
       "    </tr>\n",
       "  </tbody>\n",
       "</table>\n",
       "<p>5438 rows × 4 columns</p>\n",
       "</div>"
      ],
      "text/plain": [
       "             Profile           Start_Time  Duration  \\\n",
       "0     Everson/Cintia  2022-03-03 23:51:44  00:31:08   \n",
       "1     Everson/Cintia  2022-03-03 23:25:58  00:23:52   \n",
       "2     Everson/Cintia  2022-03-03 23:18:20  00:01:24   \n",
       "3     Everson/Cintia  2022-03-03 23:18:05  00:00:07   \n",
       "4     Everson/Cintia  2022-03-03 23:17:56  00:00:05   \n",
       "...              ...                  ...       ...   \n",
       "5433  Everson/Cintia  2016-08-28 18:43:07  00:35:28   \n",
       "5434  Everson/Cintia  2016-08-28 00:59:59  00:07:43   \n",
       "5435  Everson/Cintia  2016-08-28 00:16:03  00:43:18   \n",
       "5436  Everson/Cintia  2016-08-28 00:11:51  00:01:42   \n",
       "5437  Everson/Cintia  2016-08-28 00:08:59  00:00:03   \n",
       "\n",
       "                                                  Title  \n",
       "0        Marcella: Temporada 2: Episódio 3 (Episódio 3)  \n",
       "1        Marcella: Temporada 2: Episódio 2 (Episódio 2)  \n",
       "2                       Marcella: Temporada 2 (Trailer)  \n",
       "3                    Gotham: Season 1_hook_primary_16x9  \n",
       "4                 Temporada 1 (Clipe): Juvenile Justice  \n",
       "...                                                 ...  \n",
       "5433  Prison Break: Temporada 1: O Adiamento (Episód...  \n",
       "5434  Prison Break: Temporada 1: O Adiamento (Episód...  \n",
       "5435    Prison Break: Temporada 1: O Rato (Episódio 14)  \n",
       "5436  Prison Break: Temporada 1: O Fim do Túnel (Epi...  \n",
       "5437  Prison Break: Temporada 1: O Fim do Túnel (Epi...  \n",
       "\n",
       "[5438 rows x 4 columns]"
      ]
     },
     "execution_count": 11,
     "metadata": {},
     "output_type": "execute_result"
    }
   ],
   "source": [
    "#Separando meu perfil dos demais\n",
    "df2 = df.loc[df['Profile'] == 'Everson/Cintia']\n",
    "df2"
   ]
  },
  {
   "cell_type": "code",
   "execution_count": 12,
   "id": "023de98d",
   "metadata": {},
   "outputs": [
    {
     "data": {
      "text/plain": [
       "Profile       object\n",
       "Start_Time    object\n",
       "Duration      object\n",
       "Title         object\n",
       "dtype: object"
      ]
     },
     "execution_count": 12,
     "metadata": {},
     "output_type": "execute_result"
    }
   ],
   "source": [
    "#Tipos de dados\n",
    "df2.dtypes"
   ]
  },
  {
   "cell_type": "code",
   "execution_count": 13,
   "id": "6d0a09a6",
   "metadata": {},
   "outputs": [
    {
     "name": "stderr",
     "output_type": "stream",
     "text": [
      "C:\\Users\\Everson\\AppData\\Local\\Temp\\ipykernel_8920\\2177036032.py:2: SettingWithCopyWarning: \n",
      "A value is trying to be set on a copy of a slice from a DataFrame.\n",
      "Try using .loc[row_indexer,col_indexer] = value instead\n",
      "\n",
      "See the caveats in the documentation: https://pandas.pydata.org/pandas-docs/stable/user_guide/indexing.html#returning-a-view-versus-a-copy\n",
      "  df2['Start_Time'] = pd.to_datetime(df2['Start_Time'], utc=True)\n"
     ]
    },
    {
     "data": {
      "text/plain": [
       "Profile                    object\n",
       "Start_Time    datetime64[ns, UTC]\n",
       "Duration                   object\n",
       "Title                      object\n",
       "dtype: object"
      ]
     },
     "execution_count": 13,
     "metadata": {},
     "output_type": "execute_result"
    }
   ],
   "source": [
    "#Converter Start_Time para datetime\n",
    "df2['Start_Time'] = pd.to_datetime(df2['Start_Time'], utc=True)\n",
    "df2.dtypes"
   ]
  },
  {
   "cell_type": "code",
   "execution_count": 14,
   "id": "94c25c9b",
   "metadata": {},
   "outputs": [],
   "source": [
    "#Mudando a coluna para o indice do df\n",
    "df2 = df2.set_index('Start_Time')"
   ]
  },
  {
   "cell_type": "code",
   "execution_count": 15,
   "id": "0de7be86",
   "metadata": {},
   "outputs": [
    {
     "data": {
      "text/html": [
       "<div>\n",
       "<style scoped>\n",
       "    .dataframe tbody tr th:only-of-type {\n",
       "        vertical-align: middle;\n",
       "    }\n",
       "\n",
       "    .dataframe tbody tr th {\n",
       "        vertical-align: top;\n",
       "    }\n",
       "\n",
       "    .dataframe thead th {\n",
       "        text-align: right;\n",
       "    }\n",
       "</style>\n",
       "<table border=\"1\" class=\"dataframe\">\n",
       "  <thead>\n",
       "    <tr style=\"text-align: right;\">\n",
       "      <th></th>\n",
       "      <th>Start_Time</th>\n",
       "      <th>Profile</th>\n",
       "      <th>Duration</th>\n",
       "      <th>Title</th>\n",
       "    </tr>\n",
       "  </thead>\n",
       "  <tbody>\n",
       "    <tr>\n",
       "      <th>0</th>\n",
       "      <td>2022-03-03 20:51:44-03:00</td>\n",
       "      <td>Everson/Cintia</td>\n",
       "      <td>00:31:08</td>\n",
       "      <td>Marcella: Temporada 2: Episódio 3 (Episódio 3)</td>\n",
       "    </tr>\n",
       "    <tr>\n",
       "      <th>1</th>\n",
       "      <td>2022-03-03 20:25:58-03:00</td>\n",
       "      <td>Everson/Cintia</td>\n",
       "      <td>00:23:52</td>\n",
       "      <td>Marcella: Temporada 2: Episódio 2 (Episódio 2)</td>\n",
       "    </tr>\n",
       "    <tr>\n",
       "      <th>2</th>\n",
       "      <td>2022-03-03 20:18:20-03:00</td>\n",
       "      <td>Everson/Cintia</td>\n",
       "      <td>00:01:24</td>\n",
       "      <td>Marcella: Temporada 2 (Trailer)</td>\n",
       "    </tr>\n",
       "    <tr>\n",
       "      <th>3</th>\n",
       "      <td>2022-03-03 20:18:05-03:00</td>\n",
       "      <td>Everson/Cintia</td>\n",
       "      <td>00:00:07</td>\n",
       "      <td>Gotham: Season 1_hook_primary_16x9</td>\n",
       "    </tr>\n",
       "    <tr>\n",
       "      <th>4</th>\n",
       "      <td>2022-03-03 20:17:56-03:00</td>\n",
       "      <td>Everson/Cintia</td>\n",
       "      <td>00:00:05</td>\n",
       "      <td>Temporada 1 (Clipe): Juvenile Justice</td>\n",
       "    </tr>\n",
       "  </tbody>\n",
       "</table>\n",
       "</div>"
      ],
      "text/plain": [
       "                 Start_Time         Profile  Duration  \\\n",
       "0 2022-03-03 20:51:44-03:00  Everson/Cintia  00:31:08   \n",
       "1 2022-03-03 20:25:58-03:00  Everson/Cintia  00:23:52   \n",
       "2 2022-03-03 20:18:20-03:00  Everson/Cintia  00:01:24   \n",
       "3 2022-03-03 20:18:05-03:00  Everson/Cintia  00:00:07   \n",
       "4 2022-03-03 20:17:56-03:00  Everson/Cintia  00:00:05   \n",
       "\n",
       "                                            Title  \n",
       "0  Marcella: Temporada 2: Episódio 3 (Episódio 3)  \n",
       "1  Marcella: Temporada 2: Episódio 2 (Episódio 2)  \n",
       "2                 Marcella: Temporada 2 (Trailer)  \n",
       "3              Gotham: Season 1_hook_primary_16x9  \n",
       "4           Temporada 1 (Clipe): Juvenile Justice  "
      ]
     },
     "execution_count": 15,
     "metadata": {},
     "output_type": "execute_result"
    }
   ],
   "source": [
    "#Convertendo fuso horário\n",
    "df2.index = df2.index.tz_convert('America/Sao_Paulo')\n",
    "\n",
    "df2 = df2.reset_index()\n",
    "\n",
    "df2.head()"
   ]
  },
  {
   "cell_type": "code",
   "execution_count": 16,
   "id": "bfd8f524",
   "metadata": {},
   "outputs": [
    {
     "data": {
      "text/plain": [
       "Start_Time    datetime64[ns, America/Sao_Paulo]\n",
       "Profile                                  object\n",
       "Duration                        timedelta64[ns]\n",
       "Title                                    object\n",
       "dtype: object"
      ]
     },
     "execution_count": 16,
     "metadata": {},
     "output_type": "execute_result"
    }
   ],
   "source": [
    "#Convertendo em Timedelta\n",
    "df2['Duration'] = pd.to_timedelta(df2['Duration'])\n",
    "df2.dtypes"
   ]
  },
  {
   "cell_type": "code",
   "execution_count": 17,
   "id": "0f09ac8e",
   "metadata": {},
   "outputs": [
    {
     "data": {
      "text/html": [
       "<div>\n",
       "<style scoped>\n",
       "    .dataframe tbody tr th:only-of-type {\n",
       "        vertical-align: middle;\n",
       "    }\n",
       "\n",
       "    .dataframe tbody tr th {\n",
       "        vertical-align: top;\n",
       "    }\n",
       "\n",
       "    .dataframe thead th {\n",
       "        text-align: right;\n",
       "    }\n",
       "</style>\n",
       "<table border=\"1\" class=\"dataframe\">\n",
       "  <thead>\n",
       "    <tr style=\"text-align: right;\">\n",
       "      <th></th>\n",
       "      <th>Start_Time</th>\n",
       "      <th>Profile</th>\n",
       "      <th>Duration</th>\n",
       "      <th>Title</th>\n",
       "      <th>Title_Name</th>\n",
       "      <th>Season</th>\n",
       "      <th>Episode</th>\n",
       "    </tr>\n",
       "  </thead>\n",
       "  <tbody>\n",
       "    <tr>\n",
       "      <th>0</th>\n",
       "      <td>2022-03-03 20:51:44-03:00</td>\n",
       "      <td>Everson/Cintia</td>\n",
       "      <td>0 days 00:31:08</td>\n",
       "      <td>Marcella: Temporada 2: Episódio 3 (Episódio 3)</td>\n",
       "      <td>Marcella</td>\n",
       "      <td>Temporada 2</td>\n",
       "      <td>Episódio 3 (Episódio 3)</td>\n",
       "    </tr>\n",
       "    <tr>\n",
       "      <th>1</th>\n",
       "      <td>2022-03-03 20:25:58-03:00</td>\n",
       "      <td>Everson/Cintia</td>\n",
       "      <td>0 days 00:23:52</td>\n",
       "      <td>Marcella: Temporada 2: Episódio 2 (Episódio 2)</td>\n",
       "      <td>Marcella</td>\n",
       "      <td>Temporada 2</td>\n",
       "      <td>Episódio 2 (Episódio 2)</td>\n",
       "    </tr>\n",
       "    <tr>\n",
       "      <th>2</th>\n",
       "      <td>2022-03-03 20:18:20-03:00</td>\n",
       "      <td>Everson/Cintia</td>\n",
       "      <td>0 days 00:01:24</td>\n",
       "      <td>Marcella: Temporada 2 (Trailer)</td>\n",
       "      <td>Marcella</td>\n",
       "      <td>Temporada 2 (Trailer)</td>\n",
       "      <td>None</td>\n",
       "    </tr>\n",
       "    <tr>\n",
       "      <th>3</th>\n",
       "      <td>2022-03-03 20:18:05-03:00</td>\n",
       "      <td>Everson/Cintia</td>\n",
       "      <td>0 days 00:00:07</td>\n",
       "      <td>Gotham: Season 1_hook_primary_16x9</td>\n",
       "      <td>Gotham</td>\n",
       "      <td>Season 1_hook_primary_16x9</td>\n",
       "      <td>None</td>\n",
       "    </tr>\n",
       "    <tr>\n",
       "      <th>4</th>\n",
       "      <td>2022-03-03 20:17:56-03:00</td>\n",
       "      <td>Everson/Cintia</td>\n",
       "      <td>0 days 00:00:05</td>\n",
       "      <td>Temporada 1 (Clipe): Juvenile Justice</td>\n",
       "      <td>Temporada 1 (Clipe)</td>\n",
       "      <td>Juvenile Justice</td>\n",
       "      <td>None</td>\n",
       "    </tr>\n",
       "  </tbody>\n",
       "</table>\n",
       "</div>"
      ],
      "text/plain": [
       "                 Start_Time         Profile        Duration  \\\n",
       "0 2022-03-03 20:51:44-03:00  Everson/Cintia 0 days 00:31:08   \n",
       "1 2022-03-03 20:25:58-03:00  Everson/Cintia 0 days 00:23:52   \n",
       "2 2022-03-03 20:18:20-03:00  Everson/Cintia 0 days 00:01:24   \n",
       "3 2022-03-03 20:18:05-03:00  Everson/Cintia 0 days 00:00:07   \n",
       "4 2022-03-03 20:17:56-03:00  Everson/Cintia 0 days 00:00:05   \n",
       "\n",
       "                                            Title           Title_Name  \\\n",
       "0  Marcella: Temporada 2: Episódio 3 (Episódio 3)             Marcella   \n",
       "1  Marcella: Temporada 2: Episódio 2 (Episódio 2)             Marcella   \n",
       "2                 Marcella: Temporada 2 (Trailer)             Marcella   \n",
       "3              Gotham: Season 1_hook_primary_16x9               Gotham   \n",
       "4           Temporada 1 (Clipe): Juvenile Justice  Temporada 1 (Clipe)   \n",
       "\n",
       "                        Season                   Episode  \n",
       "0                  Temporada 2   Episódio 3 (Episódio 3)  \n",
       "1                  Temporada 2   Episódio 2 (Episódio 2)  \n",
       "2        Temporada 2 (Trailer)                      None  \n",
       "3   Season 1_hook_primary_16x9                      None  \n",
       "4             Juvenile Justice                      None  "
      ]
     },
     "execution_count": 17,
     "metadata": {},
     "output_type": "execute_result"
    }
   ],
   "source": [
    "#Criando novas colunas a partir de 'Title'\n",
    "df2[['Title_Name', 'Season', 'Episode']] = df2['Title'].str.split(':', n=2, expand=True )\n",
    "df2.head()"
   ]
  },
  {
   "cell_type": "code",
   "execution_count": 19,
   "id": "d0283cd1",
   "metadata": {},
   "outputs": [
    {
     "data": {
      "text/html": [
       "<div>\n",
       "<style scoped>\n",
       "    .dataframe tbody tr th:only-of-type {\n",
       "        vertical-align: middle;\n",
       "    }\n",
       "\n",
       "    .dataframe tbody tr th {\n",
       "        vertical-align: top;\n",
       "    }\n",
       "\n",
       "    .dataframe thead th {\n",
       "        text-align: right;\n",
       "    }\n",
       "</style>\n",
       "<table border=\"1\" class=\"dataframe\">\n",
       "  <thead>\n",
       "    <tr style=\"text-align: right;\">\n",
       "      <th></th>\n",
       "      <th>Start_Time</th>\n",
       "      <th>Duration</th>\n",
       "      <th>Title_Name</th>\n",
       "      <th>Season</th>\n",
       "      <th>Episode</th>\n",
       "    </tr>\n",
       "  </thead>\n",
       "  <tbody>\n",
       "    <tr>\n",
       "      <th>0</th>\n",
       "      <td>2022-03-03 20:51:44-03:00</td>\n",
       "      <td>0 days 00:31:08</td>\n",
       "      <td>Marcella</td>\n",
       "      <td>Temporada 2</td>\n",
       "      <td>Episódio 3 (Episódio 3)</td>\n",
       "    </tr>\n",
       "    <tr>\n",
       "      <th>1</th>\n",
       "      <td>2022-03-03 20:25:58-03:00</td>\n",
       "      <td>0 days 00:23:52</td>\n",
       "      <td>Marcella</td>\n",
       "      <td>Temporada 2</td>\n",
       "      <td>Episódio 2 (Episódio 2)</td>\n",
       "    </tr>\n",
       "    <tr>\n",
       "      <th>2</th>\n",
       "      <td>2022-03-03 20:18:20-03:00</td>\n",
       "      <td>0 days 00:01:24</td>\n",
       "      <td>Marcella</td>\n",
       "      <td>Temporada 2 (Trailer)</td>\n",
       "      <td>None</td>\n",
       "    </tr>\n",
       "    <tr>\n",
       "      <th>3</th>\n",
       "      <td>2022-03-03 20:18:05-03:00</td>\n",
       "      <td>0 days 00:00:07</td>\n",
       "      <td>Gotham</td>\n",
       "      <td>Season 1_hook_primary_16x9</td>\n",
       "      <td>None</td>\n",
       "    </tr>\n",
       "    <tr>\n",
       "      <th>4</th>\n",
       "      <td>2022-03-03 20:17:56-03:00</td>\n",
       "      <td>0 days 00:00:05</td>\n",
       "      <td>Temporada 1 (Clipe)</td>\n",
       "      <td>Juvenile Justice</td>\n",
       "      <td>None</td>\n",
       "    </tr>\n",
       "  </tbody>\n",
       "</table>\n",
       "</div>"
      ],
      "text/plain": [
       "                 Start_Time        Duration           Title_Name  \\\n",
       "0 2022-03-03 20:51:44-03:00 0 days 00:31:08             Marcella   \n",
       "1 2022-03-03 20:25:58-03:00 0 days 00:23:52             Marcella   \n",
       "2 2022-03-03 20:18:20-03:00 0 days 00:01:24             Marcella   \n",
       "3 2022-03-03 20:18:05-03:00 0 days 00:00:07               Gotham   \n",
       "4 2022-03-03 20:17:56-03:00 0 days 00:00:05  Temporada 1 (Clipe)   \n",
       "\n",
       "                        Season                   Episode  \n",
       "0                  Temporada 2   Episódio 3 (Episódio 3)  \n",
       "1                  Temporada 2   Episódio 2 (Episódio 2)  \n",
       "2        Temporada 2 (Trailer)                      None  \n",
       "3   Season 1_hook_primary_16x9                      None  \n",
       "4             Juvenile Justice                      None  "
      ]
     },
     "execution_count": 19,
     "metadata": {},
     "output_type": "execute_result"
    }
   ],
   "source": [
    "#Apagando colunas que não vamos precisar\n",
    "df2.drop(['Profile', 'Title'], axis=1, inplace=True)\n",
    "df2.head()"
   ]
  },
  {
   "cell_type": "code",
   "execution_count": 20,
   "id": "6c046cb8",
   "metadata": {},
   "outputs": [
    {
     "data": {
      "text/html": [
       "<div>\n",
       "<style scoped>\n",
       "    .dataframe tbody tr th:only-of-type {\n",
       "        vertical-align: middle;\n",
       "    }\n",
       "\n",
       "    .dataframe tbody tr th {\n",
       "        vertical-align: top;\n",
       "    }\n",
       "\n",
       "    .dataframe thead th {\n",
       "        text-align: right;\n",
       "    }\n",
       "</style>\n",
       "<table border=\"1\" class=\"dataframe\">\n",
       "  <thead>\n",
       "    <tr style=\"text-align: right;\">\n",
       "      <th></th>\n",
       "      <th>Start_Time</th>\n",
       "      <th>Duration</th>\n",
       "      <th>Title_Name</th>\n",
       "      <th>Season</th>\n",
       "      <th>Episode</th>\n",
       "      <th>Weekday</th>\n",
       "      <th>Hour</th>\n",
       "    </tr>\n",
       "  </thead>\n",
       "  <tbody>\n",
       "    <tr>\n",
       "      <th>0</th>\n",
       "      <td>2022-03-03 20:51:44-03:00</td>\n",
       "      <td>0 days 00:31:08</td>\n",
       "      <td>Marcella</td>\n",
       "      <td>Temporada 2</td>\n",
       "      <td>Episódio 3 (Episódio 3)</td>\n",
       "      <td>3</td>\n",
       "      <td>20</td>\n",
       "    </tr>\n",
       "    <tr>\n",
       "      <th>1</th>\n",
       "      <td>2022-03-03 20:25:58-03:00</td>\n",
       "      <td>0 days 00:23:52</td>\n",
       "      <td>Marcella</td>\n",
       "      <td>Temporada 2</td>\n",
       "      <td>Episódio 2 (Episódio 2)</td>\n",
       "      <td>3</td>\n",
       "      <td>20</td>\n",
       "    </tr>\n",
       "    <tr>\n",
       "      <th>2</th>\n",
       "      <td>2022-03-03 20:18:20-03:00</td>\n",
       "      <td>0 days 00:01:24</td>\n",
       "      <td>Marcella</td>\n",
       "      <td>Temporada 2 (Trailer)</td>\n",
       "      <td>None</td>\n",
       "      <td>3</td>\n",
       "      <td>20</td>\n",
       "    </tr>\n",
       "    <tr>\n",
       "      <th>3</th>\n",
       "      <td>2022-03-03 20:18:05-03:00</td>\n",
       "      <td>0 days 00:00:07</td>\n",
       "      <td>Gotham</td>\n",
       "      <td>Season 1_hook_primary_16x9</td>\n",
       "      <td>None</td>\n",
       "      <td>3</td>\n",
       "      <td>20</td>\n",
       "    </tr>\n",
       "    <tr>\n",
       "      <th>4</th>\n",
       "      <td>2022-03-03 20:17:56-03:00</td>\n",
       "      <td>0 days 00:00:05</td>\n",
       "      <td>Temporada 1 (Clipe)</td>\n",
       "      <td>Juvenile Justice</td>\n",
       "      <td>None</td>\n",
       "      <td>3</td>\n",
       "      <td>20</td>\n",
       "    </tr>\n",
       "  </tbody>\n",
       "</table>\n",
       "</div>"
      ],
      "text/plain": [
       "                 Start_Time        Duration           Title_Name  \\\n",
       "0 2022-03-03 20:51:44-03:00 0 days 00:31:08             Marcella   \n",
       "1 2022-03-03 20:25:58-03:00 0 days 00:23:52             Marcella   \n",
       "2 2022-03-03 20:18:20-03:00 0 days 00:01:24             Marcella   \n",
       "3 2022-03-03 20:18:05-03:00 0 days 00:00:07               Gotham   \n",
       "4 2022-03-03 20:17:56-03:00 0 days 00:00:05  Temporada 1 (Clipe)   \n",
       "\n",
       "                        Season                   Episode  Weekday  Hour  \n",
       "0                  Temporada 2   Episódio 3 (Episódio 3)        3    20  \n",
       "1                  Temporada 2   Episódio 2 (Episódio 2)        3    20  \n",
       "2        Temporada 2 (Trailer)                      None        3    20  \n",
       "3   Season 1_hook_primary_16x9                      None        3    20  \n",
       "4             Juvenile Justice                      None        3    20  "
      ]
     },
     "execution_count": 20,
     "metadata": {},
     "output_type": "execute_result"
    }
   ],
   "source": [
    "#Criando novas colunas de weekday e hour\n",
    "#Monday = 0, Sunday = 6\n",
    "df2['Weekday'] = df2['Start_Time'].dt.weekday\n",
    "df2['Hour'] = df2['Start_Time'].dt.hour\n",
    "df2.head()"
   ]
  },
  {
   "cell_type": "markdown",
   "id": "839719a8",
   "metadata": {},
   "source": [
    "<h1>Quantas vezes foi dado play em cada série ou filme?</h1>"
   ]
  },
  {
   "cell_type": "code",
   "execution_count": 23,
   "id": "6227f59f",
   "metadata": {},
   "outputs": [
    {
     "data": {
      "text/plain": [
       "Friends                                   317\n",
       "Trailer                                   229\n",
       "Lista Negra                               215\n",
       "Suits                                     168\n",
       "Elementary                                168\n",
       "                                         ... \n",
       "Stowaway_hook_01_16x9                       1\n",
       "Amor e Monstros                             1\n",
       "Seven Years in Tibet_hook_primary_16x9      1\n",
       "Radioactive                                 1\n",
       "Think Like a Man_hook_primary_16x9          1\n",
       "Name: Title_Name, Length: 981, dtype: int64"
      ]
     },
     "execution_count": 23,
     "metadata": {},
     "output_type": "execute_result"
    }
   ],
   "source": [
    "df2['Title_Name'].value_counts()"
   ]
  },
  {
   "cell_type": "markdown",
   "id": "f5f3321d",
   "metadata": {},
   "source": [
    "<h1>Qual são os 10 filmes/séries mais assistidos?</h1>"
   ]
  },
  {
   "cell_type": "code",
   "execution_count": 24,
   "id": "3c255ffe",
   "metadata": {},
   "outputs": [
    {
     "data": {
      "text/html": [
       "<div>\n",
       "<style scoped>\n",
       "    .dataframe tbody tr th:only-of-type {\n",
       "        vertical-align: middle;\n",
       "    }\n",
       "\n",
       "    .dataframe tbody tr th {\n",
       "        vertical-align: top;\n",
       "    }\n",
       "\n",
       "    .dataframe thead th {\n",
       "        text-align: right;\n",
       "    }\n",
       "</style>\n",
       "<table border=\"1\" class=\"dataframe\">\n",
       "  <thead>\n",
       "    <tr style=\"text-align: right;\">\n",
       "      <th></th>\n",
       "      <th>Duration</th>\n",
       "    </tr>\n",
       "    <tr>\n",
       "      <th>Title_Name</th>\n",
       "      <th></th>\n",
       "    </tr>\n",
       "  </thead>\n",
       "  <tbody>\n",
       "    <tr>\n",
       "      <th>Lista Negra</th>\n",
       "      <td>4 days 18:43:02</td>\n",
       "    </tr>\n",
       "    <tr>\n",
       "      <th>Friends</th>\n",
       "      <td>3 days 22:05:31</td>\n",
       "    </tr>\n",
       "    <tr>\n",
       "      <th>Elementary</th>\n",
       "      <td>3 days 14:24:36</td>\n",
       "    </tr>\n",
       "    <tr>\n",
       "      <th>Suits</th>\n",
       "      <td>3 days 09:52:45</td>\n",
       "    </tr>\n",
       "    <tr>\n",
       "      <th>Jane The Virgin</th>\n",
       "      <td>2 days 22:39:46</td>\n",
       "    </tr>\n",
       "    <tr>\n",
       "      <th>Pretty Little Liars</th>\n",
       "      <td>2 days 09:23:34</td>\n",
       "    </tr>\n",
       "    <tr>\n",
       "      <th>Breaking Bad</th>\n",
       "      <td>2 days 00:53:11</td>\n",
       "    </tr>\n",
       "    <tr>\n",
       "      <th>Ponto Cego</th>\n",
       "      <td>1 days 22:39:34</td>\n",
       "    </tr>\n",
       "    <tr>\n",
       "      <th>La casa de papel</th>\n",
       "      <td>1 days 13:50:58</td>\n",
       "    </tr>\n",
       "    <tr>\n",
       "      <th>The Crown</th>\n",
       "      <td>1 days 11:20:39</td>\n",
       "    </tr>\n",
       "  </tbody>\n",
       "</table>\n",
       "</div>"
      ],
      "text/plain": [
       "                           Duration\n",
       "Title_Name                         \n",
       "Lista Negra         4 days 18:43:02\n",
       "Friends             3 days 22:05:31\n",
       "Elementary          3 days 14:24:36\n",
       "Suits               3 days 09:52:45\n",
       "Jane The Virgin     2 days 22:39:46\n",
       "Pretty Little Liars 2 days 09:23:34\n",
       "Breaking Bad        2 days 00:53:11\n",
       "Ponto Cego          1 days 22:39:34\n",
       "La casa de papel    1 days 13:50:58\n",
       "The Crown           1 days 11:20:39"
      ]
     },
     "execution_count": 24,
     "metadata": {},
     "output_type": "execute_result"
    }
   ],
   "source": [
    "df2.groupby(['Title_Name']).agg({'Duration': 'sum'}).sort_values(by='Duration', ascending=False).head(10)"
   ]
  },
  {
   "cell_type": "markdown",
   "id": "3eed0ac2",
   "metadata": {},
   "source": [
    "<h1>Analisando dados - Lista Negra </h1>"
   ]
  },
  {
   "cell_type": "code",
   "execution_count": 25,
   "id": "ee652f73",
   "metadata": {},
   "outputs": [
    {
     "data": {
      "text/html": [
       "<div>\n",
       "<style scoped>\n",
       "    .dataframe tbody tr th:only-of-type {\n",
       "        vertical-align: middle;\n",
       "    }\n",
       "\n",
       "    .dataframe tbody tr th {\n",
       "        vertical-align: top;\n",
       "    }\n",
       "\n",
       "    .dataframe thead th {\n",
       "        text-align: right;\n",
       "    }\n",
       "</style>\n",
       "<table border=\"1\" class=\"dataframe\">\n",
       "  <thead>\n",
       "    <tr style=\"text-align: right;\">\n",
       "      <th></th>\n",
       "      <th>Start_Time</th>\n",
       "      <th>Duration</th>\n",
       "      <th>Title_Name</th>\n",
       "      <th>Season</th>\n",
       "      <th>Episode</th>\n",
       "      <th>Weekday</th>\n",
       "      <th>Hour</th>\n",
       "    </tr>\n",
       "  </thead>\n",
       "  <tbody>\n",
       "    <tr>\n",
       "      <th>2787</th>\n",
       "      <td>2020-07-20 22:49:26-03:00</td>\n",
       "      <td>0 days 00:44:22</td>\n",
       "      <td>Lista Negra</td>\n",
       "      <td>Temporada 7</td>\n",
       "      <td>Os irmãos Kazanjian (Episódio 19)</td>\n",
       "      <td>0</td>\n",
       "      <td>22</td>\n",
       "    </tr>\n",
       "    <tr>\n",
       "      <th>2788</th>\n",
       "      <td>2020-07-20 22:06:52-03:00</td>\n",
       "      <td>0 days 00:42:28</td>\n",
       "      <td>Lista Negra</td>\n",
       "      <td>Temporada 7</td>\n",
       "      <td>Roy Cain (nº 150) (Episódio 18)</td>\n",
       "      <td>0</td>\n",
       "      <td>22</td>\n",
       "    </tr>\n",
       "    <tr>\n",
       "      <th>2790</th>\n",
       "      <td>2020-07-19 23:58:16-03:00</td>\n",
       "      <td>0 days 00:00:01</td>\n",
       "      <td>Lista Negra</td>\n",
       "      <td>Temporada 7</td>\n",
       "      <td>Roy Cain (nº 150) (Episódio 18)</td>\n",
       "      <td>6</td>\n",
       "      <td>23</td>\n",
       "    </tr>\n",
       "    <tr>\n",
       "      <th>2791</th>\n",
       "      <td>2020-07-19 23:55:24-03:00</td>\n",
       "      <td>0 days 00:02:34</td>\n",
       "      <td>Lista Negra</td>\n",
       "      <td>Temporada 7</td>\n",
       "      <td>Irmãos (Episódio 17)</td>\n",
       "      <td>6</td>\n",
       "      <td>23</td>\n",
       "    </tr>\n",
       "    <tr>\n",
       "      <th>2792</th>\n",
       "      <td>2020-07-19 23:15:10-03:00</td>\n",
       "      <td>0 days 00:39:56</td>\n",
       "      <td>Lista Negra</td>\n",
       "      <td>Temporada 7</td>\n",
       "      <td>Irmãos (Episódio 17)</td>\n",
       "      <td>6</td>\n",
       "      <td>23</td>\n",
       "    </tr>\n",
       "  </tbody>\n",
       "</table>\n",
       "</div>"
      ],
      "text/plain": [
       "                    Start_Time        Duration   Title_Name        Season  \\\n",
       "2787 2020-07-20 22:49:26-03:00 0 days 00:44:22  Lista Negra   Temporada 7   \n",
       "2788 2020-07-20 22:06:52-03:00 0 days 00:42:28  Lista Negra   Temporada 7   \n",
       "2790 2020-07-19 23:58:16-03:00 0 days 00:00:01  Lista Negra   Temporada 7   \n",
       "2791 2020-07-19 23:55:24-03:00 0 days 00:02:34  Lista Negra   Temporada 7   \n",
       "2792 2020-07-19 23:15:10-03:00 0 days 00:39:56  Lista Negra   Temporada 7   \n",
       "\n",
       "                                 Episode  Weekday  Hour  \n",
       "2787   Os irmãos Kazanjian (Episódio 19)        0    22  \n",
       "2788     Roy Cain (nº 150) (Episódio 18)        0    22  \n",
       "2790     Roy Cain (nº 150) (Episódio 18)        6    23  \n",
       "2791                Irmãos (Episódio 17)        6    23  \n",
       "2792                Irmãos (Episódio 17)        6    23  "
      ]
     },
     "execution_count": 25,
     "metadata": {},
     "output_type": "execute_result"
    }
   ],
   "source": [
    "blacklist = df2[df2['Title_Name'] == 'Lista Negra']\n",
    "blacklist.head()"
   ]
  },
  {
   "cell_type": "code",
   "execution_count": 26,
   "id": "8ba036a4",
   "metadata": {},
   "outputs": [
    {
     "data": {
      "text/html": [
       "<div>\n",
       "<style scoped>\n",
       "    .dataframe tbody tr th:only-of-type {\n",
       "        vertical-align: middle;\n",
       "    }\n",
       "\n",
       "    .dataframe tbody tr th {\n",
       "        vertical-align: top;\n",
       "    }\n",
       "\n",
       "    .dataframe thead th {\n",
       "        text-align: right;\n",
       "    }\n",
       "</style>\n",
       "<table border=\"1\" class=\"dataframe\">\n",
       "  <thead>\n",
       "    <tr style=\"text-align: right;\">\n",
       "      <th></th>\n",
       "      <th>Start_Time</th>\n",
       "      <th>Duration</th>\n",
       "      <th>Title_Name</th>\n",
       "      <th>Season</th>\n",
       "      <th>Episode</th>\n",
       "      <th>Weekday</th>\n",
       "      <th>Hour</th>\n",
       "    </tr>\n",
       "  </thead>\n",
       "  <tbody>\n",
       "    <tr>\n",
       "      <th>2787</th>\n",
       "      <td>2020-07-20 22:49:26-03:00</td>\n",
       "      <td>0 days 00:44:22</td>\n",
       "      <td>Lista Negra</td>\n",
       "      <td>Temporada 7</td>\n",
       "      <td>Os irmãos Kazanjian (Episódio 19)</td>\n",
       "      <td>0</td>\n",
       "      <td>22</td>\n",
       "    </tr>\n",
       "    <tr>\n",
       "      <th>2788</th>\n",
       "      <td>2020-07-20 22:06:52-03:00</td>\n",
       "      <td>0 days 00:42:28</td>\n",
       "      <td>Lista Negra</td>\n",
       "      <td>Temporada 7</td>\n",
       "      <td>Roy Cain (nº 150) (Episódio 18)</td>\n",
       "      <td>0</td>\n",
       "      <td>22</td>\n",
       "    </tr>\n",
       "    <tr>\n",
       "      <th>2791</th>\n",
       "      <td>2020-07-19 23:55:24-03:00</td>\n",
       "      <td>0 days 00:02:34</td>\n",
       "      <td>Lista Negra</td>\n",
       "      <td>Temporada 7</td>\n",
       "      <td>Irmãos (Episódio 17)</td>\n",
       "      <td>6</td>\n",
       "      <td>23</td>\n",
       "    </tr>\n",
       "    <tr>\n",
       "      <th>2792</th>\n",
       "      <td>2020-07-19 23:15:10-03:00</td>\n",
       "      <td>0 days 00:39:56</td>\n",
       "      <td>Lista Negra</td>\n",
       "      <td>Temporada 7</td>\n",
       "      <td>Irmãos (Episódio 17)</td>\n",
       "      <td>6</td>\n",
       "      <td>23</td>\n",
       "    </tr>\n",
       "    <tr>\n",
       "      <th>2793</th>\n",
       "      <td>2020-07-19 22:31:54-03:00</td>\n",
       "      <td>0 days 00:42:54</td>\n",
       "      <td>Lista Negra</td>\n",
       "      <td>Temporada 7</td>\n",
       "      <td>Nyle Hatcher (nº 149) (Episódio 16)</td>\n",
       "      <td>6</td>\n",
       "      <td>22</td>\n",
       "    </tr>\n",
       "    <tr>\n",
       "      <th>...</th>\n",
       "      <td>...</td>\n",
       "      <td>...</td>\n",
       "      <td>...</td>\n",
       "      <td>...</td>\n",
       "      <td>...</td>\n",
       "      <td>...</td>\n",
       "      <td>...</td>\n",
       "    </tr>\n",
       "    <tr>\n",
       "      <th>3115</th>\n",
       "      <td>2020-05-03 18:09:12-03:00</td>\n",
       "      <td>0 days 00:40:19</td>\n",
       "      <td>Lista Negra</td>\n",
       "      <td>Temporada 1</td>\n",
       "      <td>O Autônomo (nº 145) (Episódio 2)</td>\n",
       "      <td>6</td>\n",
       "      <td>18</td>\n",
       "    </tr>\n",
       "    <tr>\n",
       "      <th>3116</th>\n",
       "      <td>2020-05-03 17:19:52-03:00</td>\n",
       "      <td>0 days 00:44:39</td>\n",
       "      <td>Lista Negra</td>\n",
       "      <td>Temporada 1</td>\n",
       "      <td>Piloto (Episódio 1)</td>\n",
       "      <td>6</td>\n",
       "      <td>17</td>\n",
       "    </tr>\n",
       "    <tr>\n",
       "      <th>4725</th>\n",
       "      <td>2018-03-24 00:25:40-03:00</td>\n",
       "      <td>0 days 00:08:57</td>\n",
       "      <td>Lista Negra</td>\n",
       "      <td>Temporada 2</td>\n",
       "      <td>Banco Monarch Douglas (Nº 112) (Episódio 2)</td>\n",
       "      <td>5</td>\n",
       "      <td>0</td>\n",
       "    </tr>\n",
       "    <tr>\n",
       "      <th>4726</th>\n",
       "      <td>2018-03-24 00:14:23-03:00</td>\n",
       "      <td>0 days 00:05:20</td>\n",
       "      <td>Lista Negra</td>\n",
       "      <td>Temporada 2</td>\n",
       "      <td>Lorde Baltimore (Nº 104) (Episódio 1)</td>\n",
       "      <td>5</td>\n",
       "      <td>0</td>\n",
       "    </tr>\n",
       "    <tr>\n",
       "      <th>4727</th>\n",
       "      <td>2018-03-23 23:03:33-03:00</td>\n",
       "      <td>0 days 00:37:07</td>\n",
       "      <td>Lista Negra</td>\n",
       "      <td>Temporada 2</td>\n",
       "      <td>Lorde Baltimore (Nº 104) (Episódio 1)</td>\n",
       "      <td>4</td>\n",
       "      <td>23</td>\n",
       "    </tr>\n",
       "  </tbody>\n",
       "</table>\n",
       "<p>186 rows × 7 columns</p>\n",
       "</div>"
      ],
      "text/plain": [
       "                    Start_Time        Duration   Title_Name        Season  \\\n",
       "2787 2020-07-20 22:49:26-03:00 0 days 00:44:22  Lista Negra   Temporada 7   \n",
       "2788 2020-07-20 22:06:52-03:00 0 days 00:42:28  Lista Negra   Temporada 7   \n",
       "2791 2020-07-19 23:55:24-03:00 0 days 00:02:34  Lista Negra   Temporada 7   \n",
       "2792 2020-07-19 23:15:10-03:00 0 days 00:39:56  Lista Negra   Temporada 7   \n",
       "2793 2020-07-19 22:31:54-03:00 0 days 00:42:54  Lista Negra   Temporada 7   \n",
       "...                        ...             ...          ...           ...   \n",
       "3115 2020-05-03 18:09:12-03:00 0 days 00:40:19  Lista Negra   Temporada 1   \n",
       "3116 2020-05-03 17:19:52-03:00 0 days 00:44:39  Lista Negra   Temporada 1   \n",
       "4725 2018-03-24 00:25:40-03:00 0 days 00:08:57  Lista Negra   Temporada 2   \n",
       "4726 2018-03-24 00:14:23-03:00 0 days 00:05:20  Lista Negra   Temporada 2   \n",
       "4727 2018-03-23 23:03:33-03:00 0 days 00:37:07  Lista Negra   Temporada 2   \n",
       "\n",
       "                                           Episode  Weekday  Hour  \n",
       "2787             Os irmãos Kazanjian (Episódio 19)        0    22  \n",
       "2788               Roy Cain (nº 150) (Episódio 18)        0    22  \n",
       "2791                          Irmãos (Episódio 17)        6    23  \n",
       "2792                          Irmãos (Episódio 17)        6    23  \n",
       "2793           Nyle Hatcher (nº 149) (Episódio 16)        6    22  \n",
       "...                                            ...      ...   ...  \n",
       "3115              O Autônomo (nº 145) (Episódio 2)        6    18  \n",
       "3116                           Piloto (Episódio 1)        6    17  \n",
       "4725   Banco Monarch Douglas (Nº 112) (Episódio 2)        5     0  \n",
       "4726         Lorde Baltimore (Nº 104) (Episódio 1)        5     0  \n",
       "4727         Lorde Baltimore (Nº 104) (Episódio 1)        4    23  \n",
       "\n",
       "[186 rows x 7 columns]"
      ]
     },
     "execution_count": 26,
     "metadata": {},
     "output_type": "execute_result"
    }
   ],
   "source": [
    "#Limitar resultados maiores que 2 minutos\n",
    "blacklist = blacklist[(blacklist['Duration'] > '0 days 00:02:00')]\n",
    "blacklist"
   ]
  },
  {
   "cell_type": "markdown",
   "id": "442021fc",
   "metadata": {},
   "source": [
    "<h1>Quanto tempo passei assistindo Lista Negra?</h1>"
   ]
  },
  {
   "cell_type": "code",
   "execution_count": 28,
   "id": "3afb6dd8",
   "metadata": {},
   "outputs": [
    {
     "data": {
      "text/plain": [
       "Timedelta('4 days 18:38:00')"
      ]
     },
     "execution_count": 28,
     "metadata": {},
     "output_type": "execute_result"
    }
   ],
   "source": [
    "blacklist['Duration'].sum()"
   ]
  },
  {
   "cell_type": "markdown",
   "id": "d0b7e641",
   "metadata": {},
   "source": [
    "<h1>Qual a temporada mais assistida?</h1>"
   ]
  },
  {
   "cell_type": "code",
   "execution_count": 29,
   "id": "de4fc80e",
   "metadata": {},
   "outputs": [
    {
     "data": {
      "text/plain": [
       " Temporada 5    31\n",
       " Temporada 2    30\n",
       " Temporada 6    28\n",
       " Temporada 3    27\n",
       " Temporada 4    26\n",
       " Temporada 1    24\n",
       " Temporada 7    20\n",
       "Name: Season, dtype: int64"
      ]
     },
     "execution_count": 29,
     "metadata": {},
     "output_type": "execute_result"
    }
   ],
   "source": [
    "blacklist['Season'].value_counts()"
   ]
  },
  {
   "cell_type": "markdown",
   "id": "e7300ba2",
   "metadata": {},
   "source": [
    "<h1>Quais os episódios mais assistidos?</h1>"
   ]
  },
  {
   "cell_type": "code",
   "execution_count": 30,
   "id": "a4e353f8",
   "metadata": {},
   "outputs": [
    {
     "data": {
      "text/plain": [
       " Lawrence Dane Devlin (nº 26) (Episódio 21)       3\n",
       " O corso (Nº 20) (Episódio 2)                     3\n",
       " O assassino Capricórnio (nº 19) (Episódio 16)    3\n",
       " Lorde Baltimore (Nº 104) (Episódio 1)            3\n",
       " Pattie Sue Edwards (nº 68) (Episódio 15)         2\n",
       "                                                 ..\n",
       " Raleigh Sinclair III (nº 51) (Episódio 14)       1\n",
       " Anna-Garcia Duerte (nº 25) (Episódio 17)         1\n",
       " Zarak Mosadek (nº 23) (Episódio 18)              1\n",
       " Nicholas T. Moore (nº 110) (Episódio 20)         1\n",
       " Piloto (Episódio 1)                              1\n",
       "Name: Episode, Length: 152, dtype: int64"
      ]
     },
     "execution_count": 30,
     "metadata": {},
     "output_type": "execute_result"
    }
   ],
   "source": [
    "blacklist['Episode'].value_counts()"
   ]
  },
  {
   "cell_type": "markdown",
   "id": "8fe22d94",
   "metadata": {},
   "source": [
    "<h1>Qual o dia da semana que mais assisti?</h1>"
   ]
  },
  {
   "cell_type": "code",
   "execution_count": 31,
   "id": "1c95dced",
   "metadata": {},
   "outputs": [
    {
     "name": "stdout",
     "output_type": "stream",
     "text": [
      "         Start_Time\n",
      "Weekday            \n",
      "0                24\n",
      "1                27\n",
      "2                21\n",
      "3                21\n",
      "4                16\n",
      "5                30\n",
      "6                47\n"
     ]
    }
   ],
   "source": [
    "#Domingo é o dia que mais assistimos séries\n",
    "print(blacklist.groupby('Weekday').agg({'Start_Time':'count'}))"
   ]
  },
  {
   "cell_type": "code",
   "execution_count": 33,
   "id": "9596b8a7",
   "metadata": {},
   "outputs": [
    {
     "data": {
      "image/png": "[encoded data removed]",
      "text/plain": [
       "<Figure size 720x360 with 1 Axes>"
      ]
     },
     "metadata": {
      "needs_background": "light"
     },
     "output_type": "display_data"
    }
   ],
   "source": [
    "#0 = segunda, 1 = terça, 2 = quarta, 3 = quinta, 4 = sexta, 5 = sabado, 6 = domingo\n",
    "plt.figure(figsize=(10,5))\n",
    "ax = sns.countplot(x='Weekday', data= blacklist, color='blue')\n",
    "ax.set_title('Episódios de Lista Negra assistidos por dia da semana', fontsize=17);"
   ]
  },
  {
   "cell_type": "markdown",
   "id": "cac15c8f",
   "metadata": {},
   "source": [
    "<h1>Em qual horario mais assisto episódios?</h1>"
   ]
  },
  {
   "cell_type": "code",
   "execution_count": 35,
   "id": "002061d8",
   "metadata": {},
   "outputs": [
    {
     "name": "stdout",
     "output_type": "stream",
     "text": [
      "      Start_Time\n",
      "Hour            \n",
      "0             16\n",
      "1              4\n",
      "14             3\n",
      "15             5\n",
      "16             6\n",
      "17             5\n",
      "18             5\n",
      "19             4\n",
      "20             8\n",
      "21            28\n",
      "22            52\n",
      "23            50\n"
     ]
    }
   ],
   "source": [
    "print(blacklist.groupby('Hour').agg({'Start_Time': 'count'}))"
   ]
  },
  {
   "cell_type": "code",
   "execution_count": 36,
   "id": "57d851ac",
   "metadata": {},
   "outputs": [
    {
     "data": {
      "image/png": "[encoded data removed]",
      "text/plain": [
       "<Figure size 720x360 with 1 Axes>"
      ]
     },
     "metadata": {
      "needs_background": "light"
     },
     "output_type": "display_data"
    }
   ],
   "source": [
    "plt.figure(figsize=(10,5))\n",
    "ax = sns.countplot(x='Hour', data= blacklist, color='blue')\n",
    "ax.set_title('Episódios de Lista Negra assistidos por hora', fontsize=17);"
   ]
  },
  {
   "cell_type": "code",
   "execution_count": null,
   "id": "f2f728ac",
   "metadata": {},
   "outputs": [],
   "source": []
  }
 ],
 "metadata": {
  "kernelspec": {
   "display_name": "Python 3 (ipykernel)",
   "language": "python",
   "name": "python3"
  },
  "language_info": {
   "codemirror_mode": {
    "name": "ipython",
    "version": 3
   },
   "file_extension": ".py",
   "mimetype": "text/x-python",
   "name": "python",
   "nbconvert_exporter": "python",
   "pygments_lexer": "ipython3",
   "version": "3.8.0"
  }
 },
 "nbformat": 4,
 "nbformat_minor": 5
}
